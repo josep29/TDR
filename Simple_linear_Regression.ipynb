{
  "cells": [
    {
      "cell_type": "markdown",
      "metadata": {
        "id": "view-in-github",
        "colab_type": "text"
      },
      "source": [
        "<a href=\"https://colab.research.google.com/github/josep29/josep29/blob/main/Simple_linear_Regression.ipynb\" target=\"_parent\"><img src=\"https://colab.research.google.com/assets/colab-badge.svg\" alt=\"Open In Colab\"/></a>"
      ]
    },
    {
      "cell_type": "markdown",
      "source": [
        "# Comparació entre un model matemàtic i una xarxa neuronal en el camp de la regressió lineal\n",
        "\n",
        "Activitat realitzada per:\n",
        "* Josep Picanyol \n",
        "\n",
        "En aquesta activitat, adjunta al projecte TDR, és usada per a observar el comportament d'una XNA envers a un model matemàtic"
      ],
      "metadata": {
        "id": "wkh1ZEEmF07y"
      }
    },
    {
      "cell_type": "markdown",
      "metadata": {
        "id": "XDnDpWcSelYG"
      },
      "source": [
        "## Importació de les llibreries utilitzades:"
      ]
    },
    {
      "cell_type": "code",
      "execution_count": 1,
      "metadata": {
        "id": "1R267M7q0KQ_"
      },
      "outputs": [],
      "source": [
        "import pandas as pd\n",
        "import matplotlib.pyplot as plt\n",
        "import numpy as np\n",
        "from math import sqrt"
      ]
    },
    {
      "cell_type": "markdown",
      "metadata": {
        "id": "vCVVCjYQeJeT"
      },
      "source": [
        "## Creació de les dades \n",
        "Es crea un *dataframe* segons l'equació: e: 5x+5 amb una variança de x entre `[-50, 50]`"
      ]
    },
    {
      "cell_type": "code",
      "execution_count": 2,
      "metadata": {
        "id": "IwDbPRYVz80v"
      },
      "outputs": [],
      "source": [
        "o = 100\n",
        "d = np.random.uniform(-50, 50, (o, 1))\n",
        "\n",
        "for i in range(o):\n",
        "  data1 = np.array([[i, (5*i + 5 + d[i][0])]])\n",
        "  if i == 0:\n",
        "    data = data1\n",
        "  else:\n",
        "    data = np.concatenate((data, data1))\n",
        "\n",
        "lineardf = pd.DataFrame(data, columns=['X', 'Y'])"
      ]
    },
    {
      "cell_type": "markdown",
      "source": [
        "Definició de la variable dependent i independent"
      ],
      "metadata": {
        "id": "bh1U_m1UDrJ9"
      }
    },
    {
      "cell_type": "code",
      "source": [
        "X1 = lineardf.copy().pop('X')\n",
        "Y = lineardf.pop('Y') \n",
        "X = lineardf\n",
        "\n",
        "X1 = np.array(X1)\n",
        "X = np.array(X)\n",
        "Y = np.array(Y)\n",
        "\n",
        "Xmean = np.mean(X)\n",
        "Ymean = np.mean(Y)"
      ],
      "metadata": {
        "id": "RXFBjlYrDVl9"
      },
      "execution_count": 3,
      "outputs": []
    },
    {
      "cell_type": "markdown",
      "source": [
        "### Model Matemàtic"
      ],
      "metadata": {
        "id": "somdKVYqExUb"
      }
    },
    {
      "cell_type": "markdown",
      "metadata": {
        "id": "7oNdrytyfVYr"
      },
      "source": [
        "Càlcul del pendent (m) i la intersecció (n),\n",
        "segons la formula de l'equació lineal:\\\n",
        "`y = mx + n`"
      ]
    },
    {
      "cell_type": "code",
      "execution_count": 4,
      "metadata": {
        "colab": {
          "base_uri": "https://localhost:8080/"
        },
        "id": "YMfW8dGi0Uv8",
        "outputId": "327b6e09-255b-4627-9e36-38bad995e162"
      },
      "outputs": [
        {
          "output_type": "stream",
          "name": "stdout",
          "text": [
            "La taula correspon a la funció f(X) = 5.11x +  -1.50\n"
          ]
        }
      ],
      "source": [
        "l = len(X)\n",
        "\n",
        "numcorr = 0\n",
        "xsquare = 0\n",
        "ysquare = 0\n",
        "numsx = 0\n",
        "numsy = 0\n",
        "\n",
        "\n",
        "for i in range(l):\n",
        "  numcorr += (X[i][0] - Xmean) * (Y[i] - Ymean)\n",
        "  xsquare += pow(X[i][0] - Xmean, 2)\n",
        "  ysquare += pow(Y[i] - Ymean, 2)\n",
        "  numsx += pow(X[i] - Xmean, 2)\n",
        "  numsy += pow(Y[i] - Ymean, 2)\n",
        "\n",
        "r = numcorr/sqrt(xsquare*ysquare)\n",
        "m = r*(sqrt(numsy/(l - 1))/sqrt(numsx/(l - 1)))\n",
        "n = Ymean - Xmean * m\n",
        "\n",
        "print('La taula correspon a la funció f(X) = {:.2f}x +  {:.2f}'.format(m, n))"
      ]
    },
    {
      "cell_type": "markdown",
      "source": [
        "Representació gràfica dels resultats"
      ],
      "metadata": {
        "id": "zs63Na1CHiU6"
      }
    },
    {
      "cell_type": "code",
      "execution_count": 5,
      "metadata": {
        "colab": {
          "base_uri": "https://localhost:8080/",
          "height": 350
        },
        "id": "x7LqEk7V0cFr",
        "outputId": "aaba2598-78e2-4c65-890f-9a83372de64b"
      },
      "outputs": [
        {
          "output_type": "display_data",
          "data": {
            "text/plain": [
              "<Figure size 720x360 with 1 Axes>"
            ],
            "image/png": "[encoded data removed]"
          },
          "metadata": {
            "needs_background": "light"
          }
        }
      ],
      "source": [
        "x = np.linspace(0, o, 2)\n",
        "y = m*x + n\n",
        " \n",
        "fig = plt.figure(figsize = (10, 5))\n",
        "\n",
        "plt.scatter(X, Y, s=1, label='Orifinal data', c='r')\n",
        "plt.plot(x, y, label='Predicted data')\n",
        "\n",
        "plt.legend()\n",
        "plt.xlabel('X')\n",
        "plt.ylabel('Y')\n",
        "plt.title(\"Gràfic Lineal\")\n",
        "\n",
        "plt.show()"
      ]
    },
    {
      "cell_type": "markdown",
      "metadata": {
        "id": "oqyrp2BO1D1E"
      },
      "source": [
        "### Model Xarxa neuronal artificial"
      ]
    },
    {
      "cell_type": "markdown",
      "source": [
        "Importació de les llibreries:"
      ],
      "metadata": {
        "id": "TT4nUQ8kHvE4"
      }
    },
    {
      "cell_type": "code",
      "execution_count": 6,
      "metadata": {
        "id": "5tmZ1glr1JD4"
      },
      "outputs": [],
      "source": [
        "import tensorflow as tf\n",
        "from tensorflow.keras import layers\n",
        "from tensorflow.keras.optimizers import SGD"
      ]
    },
    {
      "cell_type": "markdown",
      "metadata": {
        "id": "jquKeQsQf9R8"
      },
      "source": [
        "Creació i compilació del model linear"
      ]
    },
    {
      "cell_type": "code",
      "execution_count": 7,
      "metadata": {
        "id": "gMIEG974f6mi"
      },
      "outputs": [],
      "source": [
        "lmodel = tf.keras.Sequential([\n",
        "    layers.Input((1)),\n",
        "    layers.Dense(1, activation='linear')\n",
        "])\n",
        "optimizer=SGD(learning_rate=0.000002, momentum=0.5)\n",
        "lmodel.compile(optimizer=optimizer, loss='mean_squared_error')"
      ]
    },
    {
      "cell_type": "markdown",
      "metadata": {
        "id": "uDMRLSacgPRZ"
      },
      "source": [
        "Entrenament del model"
      ]
    },
    {
      "cell_type": "code",
      "execution_count": null,
      "metadata": {
        "id": "lRsOT7p21LS5"
      },
      "outputs": [],
      "source": [
        "history = lmodel.fit(X, Y, epochs=100, verbose=0)"
      ]
    },
    {
      "cell_type": "markdown",
      "metadata": {
        "id": "ntZ6qwLEgXI3"
      },
      "source": [
        "Visualització de les pèrdues"
      ]
    },
    {
      "cell_type": "code",
      "execution_count": null,
      "metadata": {
        "id": "MRm9L9yqtzgY"
      },
      "outputs": [],
      "source": [
        "fig = plt.figure(figsize=(10, 5))\n",
        "plt.plot(history.history['loss'], label='loss')\n",
        "\n",
        "plt.title('Linear Model Loss')\n",
        "plt.xlabel('Epoch')\n",
        "plt.legend()"
      ]
    },
    {
      "cell_type": "markdown",
      "metadata": {
        "id": "YhsihQ5mgvnm"
      },
      "source": [
        "Obtenció del pendent (m) i la intersecció (n)"
      ]
    },
    {
      "cell_type": "code",
      "execution_count": null,
      "metadata": {
        "id": "BzaJBQeE83Ep"
      },
      "outputs": [],
      "source": [
        "m = lmodel.layers[0].get_weights()[0]\n",
        "n = lmodel.layers[0].get_weights()[1]\n",
        "p = m[0][0]*x + n[0]\n",
        "print(f'e: {str(round(m[0][0], 2))}x + {str(round(n[0], 2))}')"
      ]
    },
    {
      "cell_type": "markdown",
      "metadata": {
        "id": "gCsIdbWJg7rP"
      },
      "source": [
        "Representació gràfica dels resultats"
      ]
    },
    {
      "cell_type": "code",
      "execution_count": null,
      "metadata": {
        "id": "rqwgt5cw6OkT"
      },
      "outputs": [],
      "source": [
        "fig = plt.figure(figsize=(10, 5))\n",
        "\n",
        "plt.plot(X, lmodel.predict(X1), label='Predicted data')\n",
        "plt.scatter(X, Y, label='Original data', s=1, c='r')\n",
        "\n",
        "plt.legend()\n",
        "plt.xlabel('X')\n",
        "plt.ylabel('Y')\n",
        "plt.show()"
      ]
    },
    {
      "cell_type": "markdown",
      "source": [
        "## Conclusió\n",
        "Es pot observar que per a fer regressió linear és més eficient el model Matemàtic. Podem observar que el model de la XNA no es tant eficient degut a que segurament es necessari un *dataframe* més extens, també degut a que els perametres especificats no són els més accurats. \n",
        "\n",
        "Podem concloure que el model matemàtic uzat només és útil per a fer la regressió de equacions lineals, ja que amb altres tipologies de equacions aquest model no seria eficient. d'igual manera el model de la XNA no seria eficient en l'ús d'altres tipus d'equacions a no ser que es modifiques la capa d'entrades, així adaptant al tipus de equació."
      ],
      "metadata": {
        "id": "h2g41zykITn1"
      }
    }
  ],
  "metadata": {
    "accelerator": "GPU",
    "colab": {
      "collapsed_sections": [
        "-YX0p4iS8BA4",
        "Hbsx9SPbzycq",
        "81A7ZJZfo5da"
      ],
      "provenance": [],
      "authorship_tag": "ABX9TyOlHZqZhDtwUy7oaX60yBTH",
      "include_colab_link": true
    },
    "kernelspec": {
      "display_name": "Python 3",
      "name": "python3"
    },
    "language_info": {
      "name": "python"
    }
  },
  "nbformat": 4,
  "nbformat_minor": 0
}